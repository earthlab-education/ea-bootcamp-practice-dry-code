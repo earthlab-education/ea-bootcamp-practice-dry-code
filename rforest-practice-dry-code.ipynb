{
 "cells": [
  {
   "cell_type": "markdown",
   "id": "63ee804e-1c3a-4fa1-a053-4de3a7d623d9",
   "metadata": {},
   "source": [
    "# Practice Dry Code Exercise\n",
    "* **Author:** Rick Forest  \n",
    "* **Date:** 10/7/2021 "
   ]
  },
  {
   "cell_type": "markdown",
   "id": "2615077c-6d6c-4937-8791-7f35c58a4bff",
   "metadata": {},
   "source": [
    "## Packages"
   ]
  },
  {
   "cell_type": "code",
   "execution_count": 1,
   "id": "1e8a3d5a-ece5-4456-8288-d782c50632b8",
   "metadata": {},
   "outputs": [],
   "source": [
    "import os\n",
    "from glob import glob\n",
    "\n",
    "import matplotlib.pyplot as plt\n",
    "import seaborn as sns\n",
    "\n",
    "import numpy as np\n",
    "import pandas as pd\n",
    "import earthpy as et"
   ]
  },
  {
   "cell_type": "markdown",
   "id": "bc5d5f1c-9254-4dd9-a3d9-66d9deda6eed",
   "metadata": {},
   "source": [
    "## Directories"
   ]
  },
  {
   "cell_type": "code",
   "execution_count": 2,
   "id": "6eed4f36-2720-40d7-9294-d2932afc0933",
   "metadata": {},
   "outputs": [
    {
     "data": {
      "text/plain": [
       "'C:\\\\Users\\\\rick\\\\earth-analytics\\\\earth-analytics-homework'"
      ]
     },
     "execution_count": 2,
     "metadata": {},
     "output_type": "execute_result"
    }
   ],
   "source": [
    "home_dir = et.io.HOME\n",
    "work_dir = os.path.join(home_dir, 'earth-analytics', 'earth-analytics-homework')\n",
    "data_dir = os.path.join(home_dir, 'earth-analytics', 'data', 'earthpy-downloads')\n",
    "\n",
    "os.chdir(work_dir)\n",
    "os.getcwd()"
   ]
  },
  {
   "cell_type": "markdown",
   "id": "82890395-9782-4df8-bb6e-dbf5ce97a9ea",
   "metadata": {},
   "source": [
    "## Download data"
   ]
  },
  {
   "cell_type": "markdown",
   "id": "9f2cf7af-ef7f-4e3e-92f8-17b29261c26b",
   "metadata": {},
   "source": [
    "### *numpy*"
   ]
  },
  {
   "cell_type": "code",
   "execution_count": 3,
   "id": "8cbe912b-b32d-482b-beb3-a9f8e20011ea",
   "metadata": {},
   "outputs": [
    {
     "data": {
      "text/plain": [
       "'monthly-precip-1988-to-1992.csv'"
      ]
     },
     "execution_count": 3,
     "metadata": {},
     "output_type": "execute_result"
    }
   ],
   "source": [
    "file_url = \"https://ndownloader.figshare.com/files/12807380\"\n",
    "data_path = et.data.get_data(url=file_url)\n",
    "file_name = os.path.basename(os.path.normpath(data_path))\n",
    "file_name"
   ]
  },
  {
   "cell_type": "code",
   "execution_count": 4,
   "id": "373446ff-bc3c-4404-acb8-f4da5a59937a",
   "metadata": {},
   "outputs": [
    {
     "data": {
      "text/plain": [
       "array([[0.4 , 1.14, 2.53, 1.48, 3.7 , 0.7 , 0.71, 1.33, 2.02, 0.03, 0.75,\n",
       "        2.16],\n",
       "       [1.19, 1.27, 0.97, 1.95, 2.68, 2.93, 1.43, 1.63, 3.54, 1.4 , 0.09,\n",
       "        1.54],\n",
       "       [1.04, 1.32, 4.55, 2.16, 1.73, 0.39, 4.23, 1.13, 1.84, 0.96, 1.6 ,\n",
       "        0.75],\n",
       "       [1.05, 0.15, 0.43, 2.41, 2.9 , 3.59, 3.11, 2.08, 1.21, 0.93, 3.3 ,\n",
       "        0.01],\n",
       "       [0.67, 0.  , 5.17, 0.46, 1.7 , 0.96, 1.13, 3.08, 0.02, 0.79, 2.56,\n",
       "        0.84]])"
      ]
     },
     "execution_count": 4,
     "metadata": {},
     "output_type": "execute_result"
    }
   ],
   "source": [
    "# first check downloaded file for delimiters and numbers versus text\n",
    "if os.path.exists(data_path):\n",
    "    monthly_precip_1988_to_1992 = np.loadtxt(data_path, delimiter=\",\")\n",
    "monthly_precip_1988_to_1992"
   ]
  },
  {
   "cell_type": "code",
   "execution_count": 5,
   "id": "0196ccd4-235c-4623-9ab2-c83441dec262",
   "metadata": {},
   "outputs": [
    {
     "data": {
      "text/plain": [
       "'monthly-precip-1993-to-1997.csv'"
      ]
     },
     "execution_count": 5,
     "metadata": {},
     "output_type": "execute_result"
    }
   ],
   "source": [
    "file_url = \"https://ndownloader.figshare.com/files/12807383\"\n",
    "data_path = et.data.get_data(url=file_url)\n",
    "file_name = os.path.basename(os.path.normpath(data_path))\n",
    "file_name"
   ]
  },
  {
   "cell_type": "code",
   "execution_count": 6,
   "id": "683482f2-3a00-420a-9906-1d403f32b92c",
   "metadata": {},
   "outputs": [
    {
     "data": {
      "text/plain": [
       "array([[0.25, 0.9 , 2.15, 2.56, 1.73, 3.38, 1.4 , 1.04, 3.32, 2.42, 2.17,\n",
       "        0.55],\n",
       "       [0.86, 1.37, 1.61, 3.46, 1.35, 0.93, 0.35, 2.56, 0.54, 1.02, 2.25,\n",
       "        0.49],\n",
       "       [0.64, 1.53, 1.21, 5.45, 9.59, 4.03, 0.72, 1.45, 2.96, 0.59, 1.51,\n",
       "        0.25],\n",
       "       [1.89, 0.29, 2.16, 1.49, 4.63, 2.77, 1.96, 0.63, 3.48, 0.28, 1.43,\n",
       "        0.37],\n",
       "       [0.87, 1.83, 0.91, 5.77, 2.19, 3.69, 1.14, 5.27, 1.92, 2.7 , 1.52,\n",
       "        0.68]])"
      ]
     },
     "execution_count": 6,
     "metadata": {},
     "output_type": "execute_result"
    }
   ],
   "source": [
    "if os.path.exists(data_path):\n",
    "    monthly_precip_1993_to_1997 = np.loadtxt(data_path, delimiter=\",\")\n",
    "monthly_precip_1993_to_1997"
   ]
  },
  {
   "cell_type": "markdown",
   "id": "a6c9cf2a-87bf-498c-b073-4053581ecb6b",
   "metadata": {},
   "source": [
    "### *pandas*"
   ]
  },
  {
   "cell_type": "code",
   "execution_count": 7,
   "id": "2e77e06d-0c73-4610-bd1b-adfc56ab2ba9",
   "metadata": {},
   "outputs": [
    {
     "data": {
      "text/plain": [
       "'temp-1991-to-1995-months.csv'"
      ]
     },
     "execution_count": 7,
     "metadata": {},
     "output_type": "execute_result"
    }
   ],
   "source": [
    "file_url = \"https://ndownloader.figshare.com/files/12807389\"\n",
    "data_path = et.data.get_data(url=file_url)\n",
    "\n",
    "file_name = os.path.basename(os.path.normpath(data_path))\n",
    "file_name"
   ]
  },
  {
   "cell_type": "code",
   "execution_count": 8,
   "id": "fcdb0097-50b6-4693-b4cc-5c3187a104ed",
   "metadata": {},
   "outputs": [
    {
     "data": {
      "text/html": [
       "<div>\n",
       "<style scoped>\n",
       "    .dataframe tbody tr th:only-of-type {\n",
       "        vertical-align: middle;\n",
       "    }\n",
       "\n",
       "    .dataframe tbody tr th {\n",
       "        vertical-align: top;\n",
       "    }\n",
       "\n",
       "    .dataframe thead th {\n",
       "        text-align: right;\n",
       "    }\n",
       "</style>\n",
       "<table border=\"1\" class=\"dataframe\">\n",
       "  <thead>\n",
       "    <tr style=\"text-align: right;\">\n",
       "      <th></th>\n",
       "      <th>Year</th>\n",
       "      <th>January</th>\n",
       "      <th>February</th>\n",
       "      <th>March</th>\n",
       "      <th>April</th>\n",
       "      <th>May</th>\n",
       "      <th>June</th>\n",
       "      <th>July</th>\n",
       "      <th>August</th>\n",
       "      <th>September</th>\n",
       "      <th>October</th>\n",
       "      <th>November</th>\n",
       "      <th>December</th>\n",
       "    </tr>\n",
       "  </thead>\n",
       "  <tbody>\n",
       "    <tr>\n",
       "      <th>0</th>\n",
       "      <td>1991</td>\n",
       "      <td>29.9</td>\n",
       "      <td>40.9</td>\n",
       "      <td>42.8</td>\n",
       "      <td>47.8</td>\n",
       "      <td>58.2</td>\n",
       "      <td>66.6</td>\n",
       "      <td>70.5</td>\n",
       "      <td>69.2</td>\n",
       "      <td>61.7</td>\n",
       "      <td>52.1</td>\n",
       "      <td>36.8</td>\n",
       "      <td>35.3</td>\n",
       "    </tr>\n",
       "    <tr>\n",
       "      <th>1</th>\n",
       "      <td>1992</td>\n",
       "      <td>35.9</td>\n",
       "      <td>40.6</td>\n",
       "      <td>43.3</td>\n",
       "      <td>54.3</td>\n",
       "      <td>59.1</td>\n",
       "      <td>62.9</td>\n",
       "      <td>68.3</td>\n",
       "      <td>66.3</td>\n",
       "      <td>64.4</td>\n",
       "      <td>54.1</td>\n",
       "      <td>34.1</td>\n",
       "      <td>29.2</td>\n",
       "    </tr>\n",
       "    <tr>\n",
       "      <th>2</th>\n",
       "      <td>1993</td>\n",
       "      <td>28.3</td>\n",
       "      <td>30.6</td>\n",
       "      <td>42.4</td>\n",
       "      <td>47.6</td>\n",
       "      <td>57.5</td>\n",
       "      <td>64.5</td>\n",
       "      <td>69.5</td>\n",
       "      <td>67.3</td>\n",
       "      <td>58.8</td>\n",
       "      <td>48.7</td>\n",
       "      <td>35.6</td>\n",
       "      <td>35.4</td>\n",
       "    </tr>\n",
       "    <tr>\n",
       "      <th>3</th>\n",
       "      <td>1994</td>\n",
       "      <td>35.5</td>\n",
       "      <td>31.9</td>\n",
       "      <td>43.9</td>\n",
       "      <td>47.6</td>\n",
       "      <td>60.8</td>\n",
       "      <td>70.0</td>\n",
       "      <td>71.2</td>\n",
       "      <td>70.9</td>\n",
       "      <td>65.0</td>\n",
       "      <td>50.6</td>\n",
       "      <td>36.6</td>\n",
       "      <td>36.1</td>\n",
       "    </tr>\n",
       "    <tr>\n",
       "      <th>4</th>\n",
       "      <td>1995</td>\n",
       "      <td>34.5</td>\n",
       "      <td>38.3</td>\n",
       "      <td>42.1</td>\n",
       "      <td>45.1</td>\n",
       "      <td>50.9</td>\n",
       "      <td>62.4</td>\n",
       "      <td>70.5</td>\n",
       "      <td>74.0</td>\n",
       "      <td>60.4</td>\n",
       "      <td>50.5</td>\n",
       "      <td>45.0</td>\n",
       "      <td>36.3</td>\n",
       "    </tr>\n",
       "  </tbody>\n",
       "</table>\n",
       "</div>"
      ],
      "text/plain": [
       "   Year  January  February  March  April   May  June  July  August  September  \\\n",
       "0  1991     29.9      40.9   42.8   47.8  58.2  66.6  70.5    69.2       61.7   \n",
       "1  1992     35.9      40.6   43.3   54.3  59.1  62.9  68.3    66.3       64.4   \n",
       "2  1993     28.3      30.6   42.4   47.6  57.5  64.5  69.5    67.3       58.8   \n",
       "3  1994     35.5      31.9   43.9   47.6  60.8  70.0  71.2    70.9       65.0   \n",
       "4  1995     34.5      38.3   42.1   45.1  50.9  62.4  70.5    74.0       60.4   \n",
       "\n",
       "   October  November  December  \n",
       "0     52.1      36.8      35.3  \n",
       "1     54.1      34.1      29.2  \n",
       "2     48.7      35.6      35.4  \n",
       "3     50.6      36.6      36.1  \n",
       "4     50.5      45.0      36.3  "
      ]
     },
     "execution_count": 8,
     "metadata": {},
     "output_type": "execute_result"
    }
   ],
   "source": [
    "temp_1991_to_1995_months = pd.read_csv(data_path)\n",
    "temp_1991_to_1995_months"
   ]
  },
  {
   "cell_type": "code",
   "execution_count": 9,
   "id": "0738d6f0-96a9-4b3f-bcc7-aecef7a0be4e",
   "metadata": {},
   "outputs": [
    {
     "data": {
      "text/plain": [
       "'temp-1996-to-2000-months.csv'"
      ]
     },
     "execution_count": 9,
     "metadata": {},
     "output_type": "execute_result"
    }
   ],
   "source": [
    "file_url = \"https://ndownloader.figshare.com/files/12807386\"\n",
    "data_path = et.data.get_data(url=file_url)\n",
    "\n",
    "file_name = os.path.basename(os.path.normpath(data_path))\n",
    "file_name"
   ]
  },
  {
   "cell_type": "code",
   "execution_count": 10,
   "id": "38f6d3a1-f323-4af7-b8b4-52c0e8c4cd87",
   "metadata": {},
   "outputs": [
    {
     "data": {
      "text/html": [
       "<div>\n",
       "<style scoped>\n",
       "    .dataframe tbody tr th:only-of-type {\n",
       "        vertical-align: middle;\n",
       "    }\n",
       "\n",
       "    .dataframe tbody tr th {\n",
       "        vertical-align: top;\n",
       "    }\n",
       "\n",
       "    .dataframe thead th {\n",
       "        text-align: right;\n",
       "    }\n",
       "</style>\n",
       "<table border=\"1\" class=\"dataframe\">\n",
       "  <thead>\n",
       "    <tr style=\"text-align: right;\">\n",
       "      <th></th>\n",
       "      <th>Year</th>\n",
       "      <th>January</th>\n",
       "      <th>February</th>\n",
       "      <th>March</th>\n",
       "      <th>April</th>\n",
       "      <th>May</th>\n",
       "      <th>June</th>\n",
       "      <th>July</th>\n",
       "      <th>August</th>\n",
       "      <th>September</th>\n",
       "      <th>October</th>\n",
       "      <th>November</th>\n",
       "      <th>December</th>\n",
       "    </tr>\n",
       "  </thead>\n",
       "  <tbody>\n",
       "    <tr>\n",
       "      <th>0</th>\n",
       "      <td>1996</td>\n",
       "      <td>29.7</td>\n",
       "      <td>37.7</td>\n",
       "      <td>37.9</td>\n",
       "      <td>50.4</td>\n",
       "      <td>58.9</td>\n",
       "      <td>66.9</td>\n",
       "      <td>71.5</td>\n",
       "      <td>69.5</td>\n",
       "      <td>60.8</td>\n",
       "      <td>53.1</td>\n",
       "      <td>40.6</td>\n",
       "      <td>36.5</td>\n",
       "    </tr>\n",
       "    <tr>\n",
       "      <th>1</th>\n",
       "      <td>1997</td>\n",
       "      <td>31.3</td>\n",
       "      <td>32.8</td>\n",
       "      <td>45.5</td>\n",
       "      <td>42.8</td>\n",
       "      <td>57.4</td>\n",
       "      <td>66.5</td>\n",
       "      <td>71.4</td>\n",
       "      <td>68.7</td>\n",
       "      <td>64.0</td>\n",
       "      <td>52.7</td>\n",
       "      <td>37.9</td>\n",
       "      <td>33.9</td>\n",
       "    </tr>\n",
       "    <tr>\n",
       "      <th>2</th>\n",
       "      <td>1998</td>\n",
       "      <td>36.5</td>\n",
       "      <td>36.4</td>\n",
       "      <td>38.7</td>\n",
       "      <td>46.5</td>\n",
       "      <td>58.8</td>\n",
       "      <td>62.1</td>\n",
       "      <td>72.8</td>\n",
       "      <td>70.7</td>\n",
       "      <td>67.1</td>\n",
       "      <td>50.4</td>\n",
       "      <td>44.0</td>\n",
       "      <td>32.2</td>\n",
       "    </tr>\n",
       "    <tr>\n",
       "      <th>3</th>\n",
       "      <td>1999</td>\n",
       "      <td>36.4</td>\n",
       "      <td>42.1</td>\n",
       "      <td>46.0</td>\n",
       "      <td>44.5</td>\n",
       "      <td>55.6</td>\n",
       "      <td>64.8</td>\n",
       "      <td>73.5</td>\n",
       "      <td>69.3</td>\n",
       "      <td>58.5</td>\n",
       "      <td>51.9</td>\n",
       "      <td>48.0</td>\n",
       "      <td>36.9</td>\n",
       "    </tr>\n",
       "    <tr>\n",
       "      <th>4</th>\n",
       "      <td>2000</td>\n",
       "      <td>36.4</td>\n",
       "      <td>41.0</td>\n",
       "      <td>42.9</td>\n",
       "      <td>51.2</td>\n",
       "      <td>61.0</td>\n",
       "      <td>67.4</td>\n",
       "      <td>74.7</td>\n",
       "      <td>73.0</td>\n",
       "      <td>63.1</td>\n",
       "      <td>49.6</td>\n",
       "      <td>31.4</td>\n",
       "      <td>31.2</td>\n",
       "    </tr>\n",
       "  </tbody>\n",
       "</table>\n",
       "</div>"
      ],
      "text/plain": [
       "   Year  January  February  March  April   May  June  July  August  September  \\\n",
       "0  1996     29.7      37.7   37.9   50.4  58.9  66.9  71.5    69.5       60.8   \n",
       "1  1997     31.3      32.8   45.5   42.8  57.4  66.5  71.4    68.7       64.0   \n",
       "2  1998     36.5      36.4   38.7   46.5  58.8  62.1  72.8    70.7       67.1   \n",
       "3  1999     36.4      42.1   46.0   44.5  55.6  64.8  73.5    69.3       58.5   \n",
       "4  2000     36.4      41.0   42.9   51.2  61.0  67.4  74.7    73.0       63.1   \n",
       "\n",
       "   October  November  December  \n",
       "0     53.1      40.6      36.5  \n",
       "1     52.7      37.9      33.9  \n",
       "2     50.4      44.0      32.2  \n",
       "3     51.9      48.0      36.9  \n",
       "4     49.6      31.4      31.2  "
      ]
     },
     "execution_count": 10,
     "metadata": {},
     "output_type": "execute_result"
    }
   ],
   "source": [
    "temp_1996_to_2000_months = pd.read_csv(data_path)\n",
    "temp_1996_to_2000_months"
   ]
  },
  {
   "cell_type": "markdown",
   "id": "8b7fe0bd-f93b-4201-8350-2d30307fda05",
   "metadata": {},
   "source": [
    "## Question 1"
   ]
  },
  {
   "cell_type": "markdown",
   "id": "0ba72de6-1f49-4bd9-b7e8-e4e607a647f2",
   "metadata": {},
   "source": [
    "Select the second row of data (including all columns) from the numpy array containing the data for 1988 to 1992, and save to a new numpy array."
   ]
  },
  {
   "cell_type": "code",
   "execution_count": 11,
   "id": "c01fbc88-c1fd-49c1-a097-902578931b3d",
   "metadata": {},
   "outputs": [
    {
     "data": {
      "text/plain": [
       "array([[0.4 , 1.14, 2.53, 1.48, 3.7 , 0.7 , 0.71, 1.33, 2.02, 0.03, 0.75,\n",
       "        2.16],\n",
       "       [1.19, 1.27, 0.97, 1.95, 2.68, 2.93, 1.43, 1.63, 3.54, 1.4 , 0.09,\n",
       "        1.54],\n",
       "       [1.04, 1.32, 4.55, 2.16, 1.73, 0.39, 4.23, 1.13, 1.84, 0.96, 1.6 ,\n",
       "        0.75],\n",
       "       [1.05, 0.15, 0.43, 2.41, 2.9 , 3.59, 3.11, 2.08, 1.21, 0.93, 3.3 ,\n",
       "        0.01],\n",
       "       [0.67, 0.  , 5.17, 0.46, 1.7 , 0.96, 1.13, 3.08, 0.02, 0.79, 2.56,\n",
       "        0.84]])"
      ]
     },
     "execution_count": 11,
     "metadata": {},
     "output_type": "execute_result"
    }
   ],
   "source": [
    "monthly_precip_1988_to_1992"
   ]
  },
  {
   "cell_type": "code",
   "execution_count": 12,
   "id": "40e34b56-729b-401a-9ec3-a19a5630d3b0",
   "metadata": {},
   "outputs": [
    {
     "data": {
      "text/plain": [
       "array([1.19, 1.27, 0.97, 1.95, 2.68, 2.93, 1.43, 1.63, 3.54, 1.4 , 0.09,\n",
       "       1.54])"
      ]
     },
     "execution_count": 12,
     "metadata": {},
     "output_type": "execute_result"
    }
   ],
   "source": [
    "monthly_precip_1989 = monthly_precip_1988_to_1992[1,]\n",
    "monthly_precip_1989 "
   ]
  },
  {
   "cell_type": "markdown",
   "id": "3fa9b0da-2774-417e-aec4-7f3388e0d325",
   "metadata": {},
   "source": [
    "## Question 2"
   ]
  },
  {
   "cell_type": "markdown",
   "id": "24bbdc10-b4c3-4e62-b6bb-0e3e35d28203",
   "metadata": {},
   "source": [
    "Write a conditional statement that checks whether the numpy array created in the previous question (i.e. the selection) is a one-dimensional numpy array.\n",
    "\n",
    "Print a message stating whether or not the array is one-dimensional."
   ]
  },
  {
   "cell_type": "code",
   "execution_count": 13,
   "id": "926492ff-2286-4a77-bc5c-726145bfe822",
   "metadata": {},
   "outputs": [
    {
     "name": "stdout",
     "output_type": "stream",
     "text": [
      "Array is one=dimensional\n"
     ]
    }
   ],
   "source": [
    "if monthly_precip_1989.ndim == 1:\n",
    "    print(\"Array is one=dimensional\")\n",
    "else:\n",
    "    print(\"Array is NOT one=dimensional\")"
   ]
  },
  {
   "cell_type": "markdown",
   "id": "220bd63f-9e43-4e22-a8b7-49e54272509c",
   "metadata": {},
   "source": [
    "## Question 3"
   ]
  },
  {
   "cell_type": "markdown",
   "id": "bcab2ca1-d506-4bef-99b9-c907a6e89e81",
   "metadata": {},
   "source": [
    "Modify your conditional statement from the previous question, so that your if and else statements execute different code, not just printing messages.\n",
    "\n",
    "For the if statement, rather than printing a message, print the shape of the numpy array from the previous question (i.e. the selection).\n",
    "\n",
    "For the else statement, rather than printing a message, include the following code lines to be executed (i.e. if the array is not one-dimensional):\n",
    "\n",
    "arrayname_1d = arrayname.flatten()  \n",
    "print(arrayname_1d.shape)  \n",
    "\n",
    "These code lines will flatten a numpy array (in this case named arrayname) to a one-dimensional array, save it to a new array called arrayname_1d, and print the shape of the new array."
   ]
  },
  {
   "cell_type": "code",
   "execution_count": 14,
   "id": "09260340-72f3-4a43-b785-430fa5cfdfb2",
   "metadata": {},
   "outputs": [
    {
     "name": "stdout",
     "output_type": "stream",
     "text": [
      "dimensions = 1\n",
      "(12,)\n"
     ]
    }
   ],
   "source": [
    "if monthly_precip_1989.ndim == 1:\n",
    "    print('dimensions = 1')\n",
    "    print(monthly_precip_1989.shape)\n",
    "else:\n",
    "    monthly_precip_1989_1d = monthly_precip_1989.flatten()\n",
    "    print('dimensions not equal 1: flatten')\n",
    "    print(monthly_precip_1989_1d.shape)"
   ]
  },
  {
   "cell_type": "markdown",
   "id": "72b3f7a6-5bde-4584-8a63-3e2dcb22f952",
   "metadata": {},
   "source": [
    "## Question 4"
   ]
  },
  {
   "cell_type": "markdown",
   "id": "de3e1b59-63a8-4330-96a8-688cae41df85",
   "metadata": {},
   "source": [
    "Manually create a one-dimensional numpy array that contains the month names (i.e. January to December).  \n",
    "\n",
    "Write a conditional statement to check that this new array for month names has the same shape as the numpy array from the previous question (i.e. the selection).  \n",
    "\n",
    "Print a message stating whether are not these arrays have the same shape and can be plotted together."
   ]
  },
  {
   "cell_type": "code",
   "execution_count": 15,
   "id": "e00dffd0-238f-4ab8-9c3e-0d760671ab25",
   "metadata": {},
   "outputs": [
    {
     "data": {
      "text/plain": [
       "array(['January', 'February', 'March', 'April', 'May', 'June', 'July',\n",
       "       'August', 'September', 'October', 'November', 'December'],\n",
       "      dtype='<U9')"
      ]
     },
     "execution_count": 15,
     "metadata": {},
     "output_type": "execute_result"
    }
   ],
   "source": [
    "month_names = np.array(['January', 'February', 'March', 'April', 'May', 'June', 'July', 'August',\n",
    " 'September', 'October', 'November', 'December'])\n",
    "month_names"
   ]
  },
  {
   "cell_type": "code",
   "execution_count": 16,
   "id": "8cf89798-bd76-4d15-b116-3c3e252917ac",
   "metadata": {},
   "outputs": [
    {
     "name": "stdout",
     "output_type": "stream",
     "text": [
      "Arrays are the same shape and can be plotted together.\n"
     ]
    }
   ],
   "source": [
    "if monthly_precip_1989.shape == month_names.shape:\n",
    "    print(\"Arrays are the same shape and can be plotted together.\")\n",
    "else:\n",
    "    print(\"Arrays are NOT same shape\")"
   ]
  },
  {
   "cell_type": "markdown",
   "id": "b69a97e3-c85a-41e9-9b89-945b5a1f24ac",
   "metadata": {},
   "source": [
    "## Question 5"
   ]
  },
  {
   "cell_type": "markdown",
   "id": "e89d366d-fe6d-405c-a893-450aa174207a",
   "metadata": {},
   "source": [
    "If the arrays are the same shape:  plot  \n",
    "else if the flattened first array and flattened second array are the same shape:  plot flattened arrays  \n",
    "else do NOT plot and print warning message"
   ]
  },
  {
   "cell_type": "markdown",
   "id": "4b8d5433-4f18-4e3e-9fce-1c94157feff0",
   "metadata": {},
   "source": [
    "## Question 6"
   ]
  },
  {
   "cell_type": "markdown",
   "id": "4f290c44-01fc-4e1e-bec1-d33025577704",
   "metadata": {},
   "source": [
    "Write a loop to run the info() method on the two pandas dataframes that you imported in this activity, and print the results.\n",
    "\n"
   ]
  },
  {
   "cell_type": "code",
   "execution_count": 17,
   "id": "e55db591-b608-4744-8b72-04a7d8402187",
   "metadata": {},
   "outputs": [
    {
     "name": "stdout",
     "output_type": "stream",
     "text": [
      "<class 'pandas.core.frame.DataFrame'>\n",
      "RangeIndex: 5 entries, 0 to 4\n",
      "Data columns (total 13 columns):\n",
      " #   Column     Non-Null Count  Dtype  \n",
      "---  ------     --------------  -----  \n",
      " 0   Year       5 non-null      int64  \n",
      " 1   January    5 non-null      float64\n",
      " 2   February   5 non-null      float64\n",
      " 3   March      5 non-null      float64\n",
      " 4   April      5 non-null      float64\n",
      " 5   May        5 non-null      float64\n",
      " 6   June       5 non-null      float64\n",
      " 7   July       5 non-null      float64\n",
      " 8   August     5 non-null      float64\n",
      " 9   September  5 non-null      float64\n",
      " 10  October    5 non-null      float64\n",
      " 11  November   5 non-null      float64\n",
      " 12  December   5 non-null      float64\n",
      "dtypes: float64(12), int64(1)\n",
      "memory usage: 648.0 bytes\n",
      "<class 'pandas.core.frame.DataFrame'>\n",
      "RangeIndex: 5 entries, 0 to 4\n",
      "Data columns (total 13 columns):\n",
      " #   Column     Non-Null Count  Dtype  \n",
      "---  ------     --------------  -----  \n",
      " 0   Year       5 non-null      int64  \n",
      " 1   January    5 non-null      float64\n",
      " 2   February   5 non-null      float64\n",
      " 3   March      5 non-null      float64\n",
      " 4   April      5 non-null      float64\n",
      " 5   May        5 non-null      float64\n",
      " 6   June       5 non-null      float64\n",
      " 7   July       5 non-null      float64\n",
      " 8   August     5 non-null      float64\n",
      " 9   September  5 non-null      float64\n",
      " 10  October    5 non-null      float64\n",
      " 11  November   5 non-null      float64\n",
      " 12  December   5 non-null      float64\n",
      "dtypes: float64(12), int64(1)\n",
      "memory usage: 648.0 bytes\n"
     ]
    }
   ],
   "source": [
    "data_frame_list = []\n",
    "data_frame_list.append(temp_1991_to_1995_months)\n",
    "data_frame_list.append(temp_1996_to_2000_months)\n",
    "\n",
    "for i in range(len(data_frame_list)):\n",
    "    data_frame_list[i].info()"
   ]
  },
  {
   "cell_type": "markdown",
   "id": "b04a7d4e-2c90-4864-a3fc-058c9ec2b223",
   "metadata": {},
   "source": [
    "## Question 7"
   ]
  },
  {
   "cell_type": "markdown",
   "id": "7963129e-aef3-4133-ace1-96b4423385ea",
   "metadata": {},
   "source": [
    "Write a loop to run the .describe() method on each column in the pandas dataframe containing the data for 1996 to 2000)."
   ]
  },
  {
   "cell_type": "code",
   "execution_count": 25,
   "id": "59a52390-a107-4a4f-b5ec-6d49cdccceeb",
   "metadata": {},
   "outputs": [
    {
     "data": {
      "text/plain": [
       "['Year',\n",
       " 'January',\n",
       " 'February',\n",
       " 'March',\n",
       " 'April',\n",
       " 'May',\n",
       " 'June',\n",
       " 'July',\n",
       " 'August',\n",
       " 'September',\n",
       " 'October',\n",
       " 'November',\n",
       " 'December']"
      ]
     },
     "execution_count": 25,
     "metadata": {},
     "output_type": "execute_result"
    }
   ],
   "source": [
    "df_columns = list(temp_1996_to_2000_months.columns)\n",
    "df_columns"
   ]
  },
  {
   "cell_type": "code",
   "execution_count": 26,
   "id": "8b150687-b471-49b8-99a1-f17d4749108d",
   "metadata": {},
   "outputs": [
    {
     "data": {
      "text/plain": [
       "['January',\n",
       " 'February',\n",
       " 'March',\n",
       " 'April',\n",
       " 'May',\n",
       " 'June',\n",
       " 'July',\n",
       " 'August',\n",
       " 'September',\n",
       " 'October',\n",
       " 'November',\n",
       " 'December']"
      ]
     },
     "execution_count": 26,
     "metadata": {},
     "output_type": "execute_result"
    }
   ],
   "source": [
    "df_month_columns = df_columns[1:]\n",
    "df_month_columns"
   ]
  },
  {
   "cell_type": "code",
   "execution_count": 27,
   "id": "e71b3862-1e15-4ac0-843d-d10fd39091b4",
   "metadata": {},
   "outputs": [
    {
     "name": "stdout",
     "output_type": "stream",
     "text": [
      "         January\n",
      "count   5.000000\n",
      "mean   34.060000\n",
      "std     3.298939\n",
      "min    29.700000\n",
      "25%    31.300000\n",
      "50%    36.400000\n",
      "75%    36.400000\n",
      "max    36.500000\n",
      "        February\n",
      "count   5.000000\n",
      "mean   38.000000\n",
      "std     3.724916\n",
      "min    32.800000\n",
      "25%    36.400000\n",
      "50%    37.700000\n",
      "75%    41.000000\n",
      "max    42.100000\n",
      "           March\n",
      "count   5.000000\n",
      "mean   42.200000\n",
      "std     3.760319\n",
      "min    37.900000\n",
      "25%    38.700000\n",
      "50%    42.900000\n",
      "75%    45.500000\n",
      "max    46.000000\n",
      "           April\n",
      "count   5.000000\n",
      "mean   47.080000\n",
      "std     3.650616\n",
      "min    42.800000\n",
      "25%    44.500000\n",
      "50%    46.500000\n",
      "75%    50.400000\n",
      "max    51.200000\n",
      "           May\n",
      "count   5.0000\n",
      "mean   58.3400\n",
      "std     1.9995\n",
      "min    55.6000\n",
      "25%    57.4000\n",
      "50%    58.8000\n",
      "75%    58.9000\n",
      "max    61.0000\n",
      "            June\n",
      "count   5.000000\n",
      "mean   65.540000\n",
      "std     2.157081\n",
      "min    62.100000\n",
      "25%    64.800000\n",
      "50%    66.500000\n",
      "75%    66.900000\n",
      "max    67.400000\n",
      "            July\n",
      "count   5.000000\n",
      "mean   72.780000\n",
      "std     1.391761\n",
      "min    71.400000\n",
      "25%    71.500000\n",
      "50%    72.800000\n",
      "75%    73.500000\n",
      "max    74.700000\n",
      "          August\n",
      "count   5.000000\n",
      "mean   70.240000\n",
      "std     1.705286\n",
      "min    68.700000\n",
      "25%    69.300000\n",
      "50%    69.500000\n",
      "75%    70.700000\n",
      "max    73.000000\n",
      "       September\n",
      "count   5.000000\n",
      "mean   62.700000\n",
      "std     3.258067\n",
      "min    58.500000\n",
      "25%    60.800000\n",
      "50%    63.100000\n",
      "75%    64.000000\n",
      "max    67.100000\n",
      "         October\n",
      "count   5.000000\n",
      "mean   51.540000\n",
      "std     1.497665\n",
      "min    49.600000\n",
      "25%    50.400000\n",
      "50%    51.900000\n",
      "75%    52.700000\n",
      "max    53.100000\n",
      "        November\n",
      "count   5.000000\n",
      "mean   40.380000\n",
      "std     6.285062\n",
      "min    31.400000\n",
      "25%    37.900000\n",
      "50%    40.600000\n",
      "75%    44.000000\n",
      "max    48.000000\n",
      "       December\n",
      "count   5.00000\n",
      "mean   34.14000\n",
      "std     2.53239\n",
      "min    31.20000\n",
      "25%    32.20000\n",
      "50%    33.90000\n",
      "75%    36.50000\n",
      "max    36.90000\n"
     ]
    }
   ],
   "source": [
    "for i in range(len(df_month_columns)):\n",
    "    print(temp_1996_to_2000_months[[df_month_columns[i]]].describe())"
   ]
  },
  {
   "cell_type": "markdown",
   "id": "2dee6827-f514-440a-b1ae-b8d16a982210",
   "metadata": {},
   "source": [
    "## Question 8"
   ]
  },
  {
   "cell_type": "markdown",
   "id": "2d7c2610-d05b-4fb2-8249-2df44298dc60",
   "metadata": {},
   "source": [
    "Write a function that calculates the mean across columns of a numpy array."
   ]
  },
  {
   "cell_type": "code",
   "execution_count": 28,
   "id": "9ec9812e-d273-472a-9fc4-f4a2c3911b57",
   "metadata": {},
   "outputs": [],
   "source": [
    "def array_mean(array):\n",
    "    \"\"\"\n",
    "    Calcualate column averages in numpy array. \n",
    "    \n",
    "    Parameters\n",
    "    ----------\n",
    "    array : array of numbers\n",
    "\n",
    "    Returns\n",
    "    ------\n",
    "    array_col_avg : one-dimensional numpy array of column averages\n",
    "\n",
    "    \"\"\"\n",
    "    array_col_avg = np.mean(array, axis=0) \n",
    "    \n",
    "    return array_col_avg"
   ]
  },
  {
   "cell_type": "markdown",
   "id": "a843a6e9-e891-4d32-970a-7579f7fbbd74",
   "metadata": {},
   "source": [
    "## Question 9"
   ]
  },
  {
   "cell_type": "markdown",
   "id": "a6904b8d-6950-4807-8f1d-627666756125",
   "metadata": {},
   "source": [
    "Run the function created in the previous question (i.e. to calculate mean of columns in a numpy array) on the numpy array containing data for 1993 to 1997. Save the output to a new numpy array."
   ]
  },
  {
   "cell_type": "code",
   "execution_count": 29,
   "id": "2b646506-db92-4f91-909f-5d6850e92b0a",
   "metadata": {},
   "outputs": [
    {
     "data": {
      "text/plain": [
       "array([0.902, 1.184, 1.608, 3.746, 3.898, 2.96 , 1.114, 2.19 , 2.444,\n",
       "       1.402, 1.776, 0.468])"
      ]
     },
     "execution_count": 29,
     "metadata": {},
     "output_type": "execute_result"
    }
   ],
   "source": [
    "monthly_mean_precip_1993_to_1997 = array_mean(monthly_precip_1993_to_1997)\n",
    "monthly_mean_precip_1993_to_1997"
   ]
  },
  {
   "cell_type": "markdown",
   "id": "b9c22013-3969-49e0-a9ca-55b2ac08e02a",
   "metadata": {},
   "source": [
    "## Question 10"
   ]
  },
  {
   "cell_type": "markdown",
   "id": "63c1a2c0-3f76-4476-8a2a-98f7b993e9a1",
   "metadata": {},
   "source": [
    "Write a sentence or two on what you would need to know how to do, in order to save the output from a function that is running on multiple arrays in a loop."
   ]
  },
  {
   "cell_type": "markdown",
   "id": "2a215ddb-b4bc-4604-ae04-cb452b686104",
   "metadata": {},
   "source": [
    "1. Create an input array list that contains the multiple numpy arrays to process, and an empty output array list to hold the averaged values. \n",
    "2. Execute a for loop that calls a function to calculate the mean of the values and append the results to the output array list."
   ]
  },
  {
   "cell_type": "code",
   "execution_count": 30,
   "id": "2f96aecd-b1eb-454c-aa78-62c68cc25b2f",
   "metadata": {},
   "outputs": [
    {
     "data": {
      "text/plain": [
       "[array([0.87 , 0.776, 2.73 , 1.692, 2.542, 1.714, 2.122, 1.85 , 1.726,\n",
       "        0.822, 1.66 , 1.06 ]),\n",
       " array([0.902, 1.184, 1.608, 3.746, 3.898, 2.96 , 1.114, 2.19 , 2.444,\n",
       "        1.402, 1.776, 0.468])]"
      ]
     },
     "execution_count": 30,
     "metadata": {},
     "output_type": "execute_result"
    }
   ],
   "source": [
    "input_array_list = list([monthly_precip_1988_to_1992,monthly_precip_1993_to_1997])\n",
    "output_array_list = []\n",
    "\n",
    "for i in range(len(input_array_list)):\n",
    "    output_array_list.append(array_mean(input_array_list[i]))\n",
    "output_array_list"
   ]
  },
  {
   "cell_type": "code",
   "execution_count": null,
   "id": "2cd0304e-7fe6-4753-90dd-0045ff6f1613",
   "metadata": {},
   "outputs": [],
   "source": []
  },
  {
   "cell_type": "code",
   "execution_count": null,
   "id": "bc114f42-f376-4470-9a0f-a39d1b741966",
   "metadata": {},
   "outputs": [],
   "source": []
  }
 ],
 "metadata": {
  "kernelspec": {
   "display_name": "Python 3 (ipykernel)",
   "language": "python",
   "name": "python3"
  },
  "language_info": {
   "codemirror_mode": {
    "name": "ipython",
    "version": 3
   },
   "file_extension": ".py",
   "mimetype": "text/x-python",
   "name": "python",
   "nbconvert_exporter": "python",
   "pygments_lexer": "ipython3",
   "version": "3.8.10"
  }
 },
 "nbformat": 4,
 "nbformat_minor": 5
}
